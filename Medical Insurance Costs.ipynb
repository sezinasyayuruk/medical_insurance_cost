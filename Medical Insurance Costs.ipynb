{
 "cells": [
  {
   "cell_type": "markdown",
   "id": "fe17e5d8",
   "metadata": {},
   "source": [
    "# Medical Insurance Costs"
   ]
  },
  {
   "cell_type": "code",
   "execution_count": 1,
   "id": "76ef5103",
   "metadata": {},
   "outputs": [],
   "source": [
    "#First I will import Pandas,\n",
    "\n",
    "import pandas as pd\n",
    "\n",
    "#and the .csv file I am going to work on\n",
    "\n",
    "file_path = \"/Users/sezinasyayuruk/Downloads/python-portfolio-project-starter-files/insurance.csv\"\n",
    "insurance_data = pd.read_csv(file_path)"
   ]
  },
  {
   "cell_type": "code",
   "execution_count": 2,
   "id": "fc25c9cf",
   "metadata": {},
   "outputs": [
    {
     "name": "stdout",
     "output_type": "stream",
     "text": [
      "<class 'pandas.core.frame.DataFrame'>\n",
      "RangeIndex: 1338 entries, 0 to 1337\n",
      "Data columns (total 7 columns):\n",
      " #   Column    Non-Null Count  Dtype  \n",
      "---  ------    --------------  -----  \n",
      " 0   age       1338 non-null   int64  \n",
      " 1   sex       1338 non-null   object \n",
      " 2   bmi       1338 non-null   float64\n",
      " 3   children  1338 non-null   int64  \n",
      " 4   smoker    1338 non-null   object \n",
      " 5   region    1338 non-null   object \n",
      " 6   charges   1338 non-null   float64\n",
      "dtypes: float64(2), int64(2), object(3)\n",
      "memory usage: 73.3+ KB\n",
      "None\n",
      "               age          bmi     children       charges\n",
      "count  1338.000000  1338.000000  1338.000000   1338.000000\n",
      "mean     39.207025    30.663397     1.094918  13270.422265\n",
      "std      14.049960     6.098187     1.205493  12110.011237\n",
      "min      18.000000    15.960000     0.000000   1121.873900\n",
      "25%      27.000000    26.296250     0.000000   4740.287150\n",
      "50%      39.000000    30.400000     1.000000   9382.033000\n",
      "75%      51.000000    34.693750     2.000000  16639.912515\n",
      "max      64.000000    53.130000     5.000000  63770.428010\n",
      "   age     sex     bmi  children smoker     region      charges\n",
      "0   19  female  27.900         0    yes  southwest  16884.92400\n",
      "1   18    male  33.770         1     no  southeast   1725.55230\n",
      "2   28    male  33.000         3     no  southeast   4449.46200\n",
      "3   33    male  22.705         0     no  northwest  21984.47061\n",
      "4   32    male  28.880         0     no  northwest   3866.85520\n",
      "5   31  female  25.740         0     no  southeast   3756.62160\n",
      "6   46  female  33.440         1     no  southeast   8240.58960\n",
      "7   37  female  27.740         3     no  northwest   7281.50560\n",
      "8   37    male  29.830         2     no  northeast   6406.41070\n",
      "9   60  female  25.840         0     no  northwest  28923.13692\n"
     ]
    }
   ],
   "source": [
    "#Let's have a look on the data on insurance_data\n",
    "\n",
    "print(insurance_data.info())\n",
    "print(insurance_data.describe())\n",
    "print(insurance_data.head(10))\n",
    "\n",
    "#As seen below insurance_data has 7 columns and 1338 rows.\n",
    "#There are no null (or missing) value in the dataset."
   ]
  },
  {
   "cell_type": "code",
   "execution_count": 3,
   "id": "9568d1a4",
   "metadata": {},
   "outputs": [
    {
     "name": "stdout",
     "output_type": "stream",
     "text": [
      "39.20702541106129\n"
     ]
    }
   ],
   "source": [
    "#Lets have a look at average age which is also mentioned in description table\n",
    "average_age = insurance_data[\"age\"].mean()\n",
    "print(average_age)"
   ]
  },
  {
   "cell_type": "code",
   "execution_count": 4,
   "id": "e85ea396",
   "metadata": {},
   "outputs": [
    {
     "name": "stdout",
     "output_type": "stream",
     "text": [
      "southeast\n"
     ]
    }
   ],
   "source": [
    "most_common_region = insurance_data[\"region\"].mode()[0]\n",
    "print(most_common_region)"
   ]
  },
  {
   "cell_type": "code",
   "execution_count": 5,
   "id": "c0b687da",
   "metadata": {},
   "outputs": [
    {
     "name": "stdout",
     "output_type": "stream",
     "text": [
      "364\n"
     ]
    }
   ],
   "source": [
    "region_count = insurance_data[insurance_data[\"region\"] == most_common_region].shape[0]\n",
    "print(region_count)"
   ]
  },
  {
   "cell_type": "code",
   "execution_count": 6,
   "id": "8f7c8504",
   "metadata": {},
   "outputs": [
    {
     "name": "stdout",
     "output_type": "stream",
     "text": [
      "The majority of individuals are from the 'southeast' region, with a count of 364.\n"
     ]
    }
   ],
   "source": [
    "print(f\"The majority of individuals are from the '{most_common_region}' region, with a count of {region_count}.\")\n"
   ]
  },
  {
   "cell_type": "code",
   "execution_count": 7,
   "id": "1706ce4f",
   "metadata": {},
   "outputs": [],
   "source": [
    "#Let's have a look at what is the insurance cost difference between smokers and non-smokers.\n",
    "#But first lets calculate the average cost of smokers and non-smokers.\n",
    "\n",
    "average_cost_non_smokers = insurance_data[insurance_data[\"smoker\"] == \"no\"][\"charges\"].mean()\n",
    "\n",
    "average_cost_smokers = insurance_data[insurance_data[\"smoker\"] == \"yes\"][\"charges\"].mean()\n"
   ]
  },
  {
   "cell_type": "code",
   "execution_count": 8,
   "id": "0c8bd63c",
   "metadata": {},
   "outputs": [
    {
     "name": "stdout",
     "output_type": "stream",
     "text": [
      "Average insurance cost for non-smokers: $8434.27\n",
      "Average insurance cost for smokers: $32050.23\n"
     ]
    }
   ],
   "source": [
    "print(\"Average insurance cost for non-smokers: $\" + str(round(average_cost_non_smokers, 2)))\n",
    "print(\"Average insurance cost for smokers: $\" + str(round(average_cost_smokers, 2)))"
   ]
  },
  {
   "cell_type": "code",
   "execution_count": 9,
   "id": "541de3d7",
   "metadata": {},
   "outputs": [
    {
     "name": "stdout",
     "output_type": "stream",
     "text": [
      "The difference in average insurance costs between smokers and non-smokers is: $23615.96\n"
     ]
    }
   ],
   "source": [
    "cost_difference_smoke = average_cost_smokers - average_cost_non_smokers\n",
    "\n",
    "print(\"The difference in average insurance costs between smokers and non-smokers is: $\" + str(round(cost_difference_smoke, 2)))"
   ]
  },
  {
   "cell_type": "code",
   "execution_count": 10,
   "id": "be433eee",
   "metadata": {},
   "outputs": [
    {
     "name": "stdout",
     "output_type": "stream",
     "text": [
      "The average age of who has at least one child is: 40\n"
     ]
    }
   ],
   "source": [
    "#Let's have look at what is the average age of people who has at least 1 child.\n",
    "\n",
    "average_age_parent =insurance_data[insurance_data[\"children\"] > 0][\"age\"].mean()\n",
    "\n",
    "print(\"The average age of who has at least one child is: \" + str(round(average_age_parent)))\n"
   ]
  },
  {
   "cell_type": "code",
   "execution_count": null,
   "id": "fd896baa",
   "metadata": {},
   "outputs": [],
   "source": []
  }
 ],
 "metadata": {
  "kernelspec": {
   "display_name": "Python 3 (ipykernel)",
   "language": "python",
   "name": "python3"
  },
  "language_info": {
   "codemirror_mode": {
    "name": "ipython",
    "version": 3
   },
   "file_extension": ".py",
   "mimetype": "text/x-python",
   "name": "python",
   "nbconvert_exporter": "python",
   "pygments_lexer": "ipython3",
   "version": "3.9.13"
  }
 },
 "nbformat": 4,
 "nbformat_minor": 5
}
